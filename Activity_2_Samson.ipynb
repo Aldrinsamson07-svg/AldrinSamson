{
 "cells": [
  {
   "cell_type": "code",
   "execution_count": 23,
   "id": "7afd942b-9801-4fe9-a0bd-fadecb312c09",
   "metadata": {},
   "outputs": [
    {
     "name": "stdout",
     "output_type": "stream",
     "text": [
      "(555) 123-4567\n"
     ]
    }
   ],
   "source": [
    "# Task 1: Clean and format phone number\n",
    "raw_input = \" 555-123-4567 \"\n",
    "\n",
    "cleaned = raw_input.strip().replace(\" \", \"\").replace(\"-\", \"\")\n",
    "\n",
    "# Task 2: Format to standard look: (555) 123-4567\n",
    "formatted = f\"({cleaned[:3]}) {cleaned[3:6]}-{cleaned[6:]}\"\n",
    "print(formatted)\n"
   ]
  },
  {
   "cell_type": "code",
   "execution_count": 25,
   "id": "07e18fde-d5d7-4b83-b64b-5e833e420b05",
   "metadata": {},
   "outputs": [
    {
     "name": "stdout",
     "output_type": "stream",
     "text": [
      "2 x Book @ $15.99 ea. = $31.98\n"
     ]
    }
   ],
   "source": [
    "# Task 2. Receipt formatting\n",
    "item = \"Book\"\n",
    "price = 15.99\n",
    "quantity = 2\n",
    "total = price * quantity\n",
    "\n",
    "print(f\"{quantity} x {item} @ ${price:.2f} ea. = ${total:.2f}\")\n"
   ]
  },
  {
   "cell_type": "code",
   "execution_count": 35,
   "id": "b373a102-382f-40ea-b147-bd4743b12759",
   "metadata": {},
   "outputs": [
    {
     "name": "stdout",
     "output_type": "stream",
     "text": [
      "True\n",
      "False\n",
      "False\n"
     ]
    }
   ],
   "source": [
    "# Task 3. Username validation\n",
    "def is_valid_username(username):\n",
    "    return username.isalnum() and 5 <= len(username) <= 12\n",
    "\n",
    "print(is_valid_username(\"ABCDE\"))     # True\n",
    "print(is_valid_username(\"AB!\"))         # False\n",
    "print(is_valid_username(\"ABCDEFGHIJKLM\"))  # False\n"
   ]
  },
  {
   "cell_type": "code",
   "execution_count": 29,
   "id": "7c4a48e4-6f9c-4252-a05d-364f1d3b60e2",
   "metadata": {},
   "outputs": [
    {
     "name": "stdout",
     "output_type": "stream",
     "text": [
      "*****5670\n"
     ]
    }
   ],
   "source": [
    "# T4. Mask credit card number\n",
    "def mask_credit_card(card_number):\n",
    "    \"\"\"\n",
    "    Masks all but the last 4 digits of the credit card number with '*'.\n",
    "    \"\"\"\n",
    "    card_number = card_number.strip()\n",
    "    return '*' * (len(card_number) - 4) + card_number[-4:]\n",
    "\n",
    "print(mask_credit_card(\"112345670\"))\n"
   ]
  },
  {
   "cell_type": "code",
   "execution_count": null,
   "id": "b96ed4f6-9fb8-4eef-be80-948875ebd34a",
   "metadata": {},
   "outputs": [],
   "source": []
  }
 ],
 "metadata": {
  "kernelspec": {
   "display_name": "Python [conda env:base] *",
   "language": "python",
   "name": "conda-base-py"
  },
  "language_info": {
   "codemirror_mode": {
    "name": "ipython",
    "version": 3
   },
   "file_extension": ".py",
   "mimetype": "text/x-python",
   "name": "python",
   "nbconvert_exporter": "python",
   "pygments_lexer": "ipython3",
   "version": "3.12.7"
  }
 },
 "nbformat": 4,
 "nbformat_minor": 5
}
