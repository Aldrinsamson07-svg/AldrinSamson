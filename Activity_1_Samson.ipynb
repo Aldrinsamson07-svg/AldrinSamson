{
 "cells": [
  {
   "cell_type": "code",
   "execution_count": 3,
   "id": "4957a600-6e0c-4fd5-b37b-0e61b5885a29",
   "metadata": {},
   "outputs": [
    {
     "name": "stdout",
     "output_type": "stream",
     "text": [
      "The String: Python Programming\n",
      "Number of vowels: 4\n"
     ]
    }
   ],
   "source": [
    "# Task 1: Count Vowels\n",
    "def count_vowels(text):\n",
    "    \"\"\"\n",
    "    Returns the number of vowels (a, e, i, o, u) in the given string.\n",
    "    \"\"\"\n",
    "    vowels = 'aeiouAEIOU'\n",
    "    count = sum(1 for char in text if char in vowels)\n",
    "    return count\n",
    "\n",
    "sample_text = \"Python Programming\"\n",
    "vowel_count = count_vowels(sample_text)\n",
    "print(f\"The String: {sample_text}\")\n",
    "print(f\"Number of vowels: {vowel_count}\")\n"
   ]
  },
  {
   "cell_type": "code",
   "execution_count": 7,
   "id": "aee6dd93-be9d-4411-8e7c-a5d62478976a",
   "metadata": {},
   "outputs": [
    {
     "name": "stdout",
     "output_type": "stream",
     "text": [
      "Shirt size: Large, Message: 'I love Python'\n",
      "Shirt size: Medium, Message: 'Try lang ng try'\n"
     ]
    }
   ],
   "source": [
    "# Task 2: Make Shirt\n",
    "def make_shirt(size=\"Large\", message=\"I love Python\"):\n",
    "    print(f\"Shirt size: {size}, Message: '{message}'\")\n",
    "\n",
    "make_shirt()  # Uses default arguments\n",
    "make_shirt(\"Medium\", \"Try lang ng try\")  # Try lang\n"
   ]
  },
  {
   "cell_type": "code",
   "execution_count": 11,
   "id": "6322d9f0-53f6-452e-aa4e-ec4b6c2ef1fd",
   "metadata": {},
   "outputs": [
    {
     "name": "stdout",
     "output_type": "stream",
     "text": [
      "Merged String: Jupyter Ang Gamit Ko Sapag Code\n"
     ]
    }
   ],
   "source": [
    "# Task 3: Merge Strings\n",
    "def merge_strings(*args):\n",
    "    return ' '.join(args)\n",
    "\n",
    "merged = merge_strings(\"Jupyter\", \"Ang\", \"Gamit\", \"Ko\", \"Sapag\", \"Code\")\n",
    "print(\"Merged String:\", merged)\n"
   ]
  },
  {
   "cell_type": "code",
   "execution_count": 13,
   "id": "d9f3fa14-5e95-43c7-9cf1-04f36bc1adcc",
   "metadata": {},
   "outputs": [
    {
     "name": "stdout",
     "output_type": "stream",
     "text": [
      "Application Configuration:\n",
      "{'app_name': 'MyApp', 'version': '1.0', 'debug': True, 'port': 3000, 'environment': 'production'}\n"
     ]
    }
   ],
   "source": [
    "# Task 4: CLI Application Setup\n",
    "def setup_application(app_name, version, **kwargs):\n",
    "    config = {'app_name': app_name, 'version': version}\n",
    "    config.update(kwargs)\n",
    "    return config\n",
    "\n",
    "app_config = setup_application(\"MyApp\", \"1.0\", debug=True, port=3000, environment=\"production\")\n",
    "print(\"Application Configuration:\")\n",
    "print(app_config)\n"
   ]
  },
  {
   "cell_type": "code",
   "execution_count": null,
   "id": "c513c675-d5b7-4471-9e08-6131e78e95f0",
   "metadata": {},
   "outputs": [],
   "source": []
  }
 ],
 "metadata": {
  "kernelspec": {
   "display_name": "Python [conda env:base] *",
   "language": "python",
   "name": "conda-base-py"
  },
  "language_info": {
   "codemirror_mode": {
    "name": "ipython",
    "version": 3
   },
   "file_extension": ".py",
   "mimetype": "text/x-python",
   "name": "python",
   "nbconvert_exporter": "python",
   "pygments_lexer": "ipython3",
   "version": "3.12.7"
  }
 },
 "nbformat": 4,
 "nbformat_minor": 5
}
