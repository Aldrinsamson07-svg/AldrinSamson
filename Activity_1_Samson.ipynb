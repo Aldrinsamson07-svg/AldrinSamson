{
 "cells": [
  {
   "cell_type": "code",
   "execution_count": 31,
   "id": "4e3e0d27-664f-489a-b14f-e937bdc90d80",
   "metadata": {},
   "outputs": [
    {
     "name": "stdin",
     "output_type": "stream",
     "text": [
      "Enter a string to count vowels:  asdasdas\n"
     ]
    },
    {
     "name": "stdout",
     "output_type": "stream",
     "text": [
      "Number of vowels: 3\n",
      "\n"
     ]
    }
   ],
   "source": [
    "# Sir May mga user input() tong code nato sir yung task 1,2,3 sir\n",
    "# Sir May mga user input() tong code nato sir yung task 1,2,3 \n",
    "# \n",
    "# Task 1\n",
    "def count_vowels(text):\n",
    "    vowels = 'aeiouAEIOU'\n",
    "    count = sum(1 for char in text if char in vowels)\n",
    "    return count\n",
    "text_input = input(\"Enter a string to count vowels: \")\n",
    "print(f\"Number of vowels: {count_vowels(text_input)}\\n\")"
   ]
  },
  {
   "cell_type": "code",
   "execution_count": 33,
   "id": "74487492-5929-4fb7-bc23-8ba72ca68eae",
   "metadata": {},
   "outputs": [
    {
     "name": "stdout",
     "output_type": "stream",
     "text": [
      "Let's make a shirt!\n"
     ]
    },
    {
     "name": "stdin",
     "output_type": "stream",
     "text": [
      "Enter shirt size (press Enter for default 'Large'):  \n",
      " Enter shirt message (press Enter for default 'I love Python'):  \n"
     ]
    },
    {
     "name": "stdout",
     "output_type": "stream",
     "text": [
      "Shirt size: Large, Message: 'I love Python'\n",
      "\n"
     ]
    }
   ],
   "source": [
    "# Task 2\n",
    "\n",
    "def make_shirt(size=\"Large\", message=\"I love Python\"):\n",
    "    \n",
    "    print(f\"Shirt size: {size}, Message: '{message}'\")\n",
    "    \n",
    "print(\"Let's make a shirt!\")\n",
    "size_input = input(\"Enter shirt size (press Enter for default 'Large'): \") or \"Large\"\n",
    "message_input = input(\" Enter shirt message (press Enter for default 'I love Python'): \") or \"I love Python\"\n",
    "make_shirt(size_input, message_input)\n",
    "print()"
   ]
  },
  {
   "cell_type": "code",
   "execution_count": 45,
   "id": "8dcdf509-4638-4e45-88a4-ce73259a4039",
   "metadata": {},
   "outputs": [
    {
     "name": "stdin",
     "output_type": "stream",
     "text": [
      "How many words/strings do you want to merge? [INPUT Number Only!] 1\n",
      "Enter string 1:  1\n"
     ]
    },
    {
     "name": "stdout",
     "output_type": "stream",
     "text": [
      "Merged string: 1\n",
      "\n"
     ]
    }
   ],
   "source": [
    "# Task 3\n",
    "\n",
    "def merge_strings(*args):\n",
    "    return ' '.join(args)\n",
    "    print(\"Merge multiple strings.\")\n",
    "num_strings = int(input(\"How many words/strings do you want to merge? [INPUT Number Only!]\"))\n",
    "strings = [input(f\"Enter string {i+1}: \") for i in range(num_strings)]\n",
    "print(\"Merged string:\", merge_strings(*strings))\n",
    "print()"
   ]
  },
  {
   "cell_type": "code",
   "execution_count": 47,
   "id": "980b46a4-f68d-4781-b21a-159aba5b5e98",
   "metadata": {},
   "outputs": [
    {
     "data": {
      "text/plain": [
       "{'app_name': 'MyApp',\n",
       " 'version': '1.0',\n",
       " 'debug': True,\n",
       " 'port': 3000,\n",
       " 'environment': 'production'}"
      ]
     },
     "execution_count": 47,
     "metadata": {},
     "output_type": "execute_result"
    }
   ],
   "source": [
    "# Task 4\n",
    "\n",
    "def setup_application(app_name, version, **kwargs):\n",
    "    \"\"\"\n",
    "    Simulates a CLI app setup by returning a configuration dictionary.\n",
    "    \"\"\"\n",
    "    config = {'app_name': app_name, 'version': version}\n",
    "    config.update(kwargs)\n",
    "    return config\n",
    "\n",
    "setup_application(\"MyApp\", \"1.0\", debug=True, port=3000, environment=\"production\")\n"
   ]
  },
  {
   "cell_type": "code",
   "execution_count": null,
   "id": "552de400-a583-441b-9781-4cd015f12450",
   "metadata": {},
   "outputs": [],
   "source": []
  }
 ],
 "metadata": {
  "kernelspec": {
   "display_name": "Python [conda env:base] *",
   "language": "python",
   "name": "conda-base-py"
  },
  "language_info": {
   "codemirror_mode": {
    "name": "ipython",
    "version": 3
   },
   "file_extension": ".py",
   "mimetype": "text/x-python",
   "name": "python",
   "nbconvert_exporter": "python",
   "pygments_lexer": "ipython3",
   "version": "3.12.7"
  }
 },
 "nbformat": 4,
 "nbformat_minor": 5
}
